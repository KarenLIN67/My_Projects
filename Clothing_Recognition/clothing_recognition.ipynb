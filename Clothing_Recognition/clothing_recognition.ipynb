{
 "cells": [
  {
   "cell_type": "code",
   "execution_count": 21,
   "metadata": {},
   "outputs": [],
   "source": [
    "from tensorflow import keras                           #模型2\n",
    "import tensorflow as tf                               #匯入模型\n",
    "import tkinter as tk\n",
    "\n",
    "from tkinter import filedialog\n",
    "import matplotlib.pyplot as plt\n",
    "import numpy as np\n",
    "import random\n",
    "import os                                              #匯入\n",
    "os.environ[\"KMP_DUPLICATE_LIB_OK\"]=\"TRUE\""
   ]
  },
  {
   "cell_type": "code",
   "execution_count": 22,
   "metadata": {},
   "outputs": [],
   "source": [
    "mnist = tf.keras.datasets.fashion_mnist\n",
    "\n",
    "(training_images, training_labels),(test_images,test_labels) = mnist.load_data()"
   ]
  },
  {
   "cell_type": "code",
   "execution_count": 23,
   "metadata": {},
   "outputs": [],
   "source": [
    "EAGER = True #TensorFlow 的 Eager Execution 是一种命令式编程环境，可立即评估运算"
   ]
  },
  {
   "cell_type": "code",
   "execution_count": 24,
   "metadata": {},
   "outputs": [],
   "source": [
    "model = keras.Sequential([\n",
    "    #(-1,28,28)->(-1,100)\n",
    "    keras.layers.SimpleRNN(\n",
    "    # for batch_input_shape, if using tensorflow as the backend, we have to put None for the batch_size.\n",
    "    # Otherwise, model.evaluate() will get error.\n",
    "    input_shape=(28, 28),       # Or: input_dim=INPUT_SIZE, input_length=TIME_STEPS,\n",
    "    units=256,\n",
    "    unroll=True),\n",
    "    keras.layers.Dropout(rate=0.2),\n",
    "    #(-1,256)->(-1,10)\n",
    "    keras.layers.Dense(10, activation=tf.nn.softmax)\n",
    "])"
   ]
  },
  {
   "cell_type": "code",
   "execution_count": 25,
   "metadata": {},
   "outputs": [],
   "source": [
    "training_images  = training_images / 255.0\n",
    "test_images = test_images / 255.0                                   #定位點中心"
   ]
  },
  {
   "cell_type": "code",
   "execution_count": 31,
   "metadata": {},
   "outputs": [
    {
     "name": "stdout",
     "output_type": "stream",
     "text": [
      "Epoch 1/20\n",
      "1875/1875 [==============================] - 23s 12ms/step - loss: 0.5142 - accuracy: 0.8150 - val_loss: 0.4516 - val_accuracy: 0.8370\n",
      "Epoch 2/20\n",
      "1875/1875 [==============================] - 21s 11ms/step - loss: 0.5113 - accuracy: 0.8164 - val_loss: 0.5068 - val_accuracy: 0.8290\n",
      "Epoch 3/20\n",
      "1875/1875 [==============================] - 21s 11ms/step - loss: 0.5432 - accuracy: 0.8058 - val_loss: 0.5420 - val_accuracy: 0.8200\n",
      "Epoch 4/20\n",
      "1875/1875 [==============================] - 20s 11ms/step - loss: 0.5139 - accuracy: 0.8164 - val_loss: 0.4594 - val_accuracy: 0.8410\n",
      "Epoch 5/20\n",
      "1875/1875 [==============================] - 20s 11ms/step - loss: 0.5106 - accuracy: 0.8171 - val_loss: 0.5036 - val_accuracy: 0.8260\n",
      "Epoch 6/20\n",
      "1875/1875 [==============================] - 20s 11ms/step - loss: 0.5335 - accuracy: 0.8078 - val_loss: 0.4754 - val_accuracy: 0.8330\n",
      "Epoch 7/20\n",
      "1875/1875 [==============================] - 22s 12ms/step - loss: 0.5515 - accuracy: 0.8013 - val_loss: 0.5460 - val_accuracy: 0.8050\n",
      "Epoch 8/20\n",
      "1875/1875 [==============================] - 21s 11ms/step - loss: 0.5467 - accuracy: 0.8019 - val_loss: 0.6363 - val_accuracy: 0.7740\n",
      "Epoch 9/20\n",
      "1875/1875 [==============================] - 20s 11ms/step - loss: 0.6347 - accuracy: 0.7753 - val_loss: 0.6662 - val_accuracy: 0.7570\n",
      "Epoch 10/20\n",
      "1875/1875 [==============================] - 20s 11ms/step - loss: 0.6522 - accuracy: 0.7674 - val_loss: 0.5209 - val_accuracy: 0.8210\n",
      "Epoch 11/20\n",
      "1875/1875 [==============================] - 23s 12ms/step - loss: 0.6237 - accuracy: 0.7786 - val_loss: 0.5933 - val_accuracy: 0.7800\n",
      "Epoch 12/20\n",
      "1875/1875 [==============================] - 21s 11ms/step - loss: 0.6178 - accuracy: 0.7796 - val_loss: 0.5664 - val_accuracy: 0.7890\n",
      "Epoch 13/20\n",
      "1875/1875 [==============================] - 20s 11ms/step - loss: 0.6240 - accuracy: 0.7782 - val_loss: 0.5606 - val_accuracy: 0.8010\n",
      "Epoch 14/20\n",
      "1875/1875 [==============================] - 20s 11ms/step - loss: 0.6340 - accuracy: 0.7732 - val_loss: 0.5835 - val_accuracy: 0.7760\n",
      "Epoch 15/20\n",
      "1875/1875 [==============================] - 19s 10ms/step - loss: 0.6537 - accuracy: 0.7617 - val_loss: 0.6298 - val_accuracy: 0.7750\n",
      "Epoch 16/20\n",
      "1875/1875 [==============================] - 20s 11ms/step - loss: 0.6778 - accuracy: 0.7579 - val_loss: 0.6964 - val_accuracy: 0.7630\n",
      "Epoch 17/20\n",
      "1875/1875 [==============================] - 22s 12ms/step - loss: 0.6811 - accuracy: 0.7568 - val_loss: 0.6149 - val_accuracy: 0.7690\n",
      "Epoch 18/20\n",
      "1875/1875 [==============================] - 20s 11ms/step - loss: 0.6628 - accuracy: 0.7609 - val_loss: 0.5850 - val_accuracy: 0.8040\n",
      "Epoch 19/20\n",
      "1875/1875 [==============================] - 20s 11ms/step - loss: 0.6282 - accuracy: 0.7768 - val_loss: 0.7045 - val_accuracy: 0.7580\n",
      "Epoch 20/20\n",
      "1875/1875 [==============================] - 22s 12ms/step - loss: 0.7116 - accuracy: 0.7482 - val_loss: 0.7284 - val_accuracy: 0.7480\n"
     ]
    },
    {
     "data": {
      "text/plain": [
       "<keras.callbacks.History at 0x207cc1479d0>"
      ]
     },
     "execution_count": 31,
     "metadata": {},
     "output_type": "execute_result"
    }
   ],
   "source": [
    "lr = 0.001\n",
    "epochs = 20\n",
    "model.compile(optimizer=tf.compat.v1.train.AdamOptimizer(lr),\n",
    "              loss='sparse_categorical_crossentropy',\n",
    "              metrics=['accuracy'])\n",
    "\n",
    "model.fit(training_images, training_labels, epochs=epochs,validation_data=[test_images[:1000],test_labels[:1000]])"
   ]
  },
  {
   "cell_type": "code",
   "execution_count": 32,
   "metadata": {},
   "outputs": [
    {
     "name": "stdout",
     "output_type": "stream",
     "text": [
      "Model: \"sequential_2\"\n",
      "_________________________________________________________________\n",
      " Layer (type)                Output Shape              Param #   \n",
      "=================================================================\n",
      " simple_rnn_2 (SimpleRNN)    (None, 256)               72960     \n",
      "                                                                 \n",
      " dropout_2 (Dropout)         (None, 256)               0         \n",
      "                                                                 \n",
      " dense_2 (Dense)             (None, 10)                2570      \n",
      "                                                                 \n",
      "=================================================================\n",
      "Total params: 75,530\n",
      "Trainable params: 75,530\n",
      "Non-trainable params: 0\n",
      "_________________________________________________________________\n",
      "None\n"
     ]
    }
   ],
   "source": [
    "print(model.summary())"
   ]
  },
  {
   "cell_type": "code",
   "execution_count": 33,
   "metadata": {},
   "outputs": [
    {
     "name": "stdout",
     "output_type": "stream",
     "text": [
      "313/313 [==============================] - 4s 12ms/step - loss: 0.7736 - accuracy: 0.7248\n"
     ]
    },
    {
     "data": {
      "text/plain": [
       "[0.77363520860672, 0.7247999906539917]"
      ]
     },
     "execution_count": 33,
     "metadata": {},
     "output_type": "execute_result"
    }
   ],
   "source": [
    "model.evaluate(test_images, test_labels)  #測試"
   ]
  },
  {
   "cell_type": "code",
   "execution_count": 34,
   "metadata": {},
   "outputs": [
    {
     "name": "stdout",
     "output_type": "stream",
     "text": [
      "預測值: [1.7923344e-03 5.0011371e-05 1.2537343e-03 1.8200198e-03 4.8356651e-05\n",
      " 2.3155510e-02 1.4300472e-03 1.4960028e-01 2.2942721e-04 8.2062030e-01]\n",
      "\n",
      "預測是 Ankle boot 正確答案是 Ankle boot\n"
     ]
    },
    {
     "data": {
      "text/plain": [
       "<matplotlib.image.AxesImage at 0x207d27c16d0>"
      ]
     },
     "execution_count": 34,
     "metadata": {},
     "output_type": "execute_result"
    },
    {
     "data": {
      "image/png": "[encoded data removed]",
      "text/plain": [
       "<Figure size 432x288 with 2 Axes>"
      ]
     },
     "metadata": {
      "needs_background": "light"
     },
     "output_type": "display_data"
    }
   ],
   "source": [
    "classifications = model.predict(test_images)   #預測\n",
    "print(\"預測值:\",classifications[0])\n",
    "print(\"\")\n",
    "x=[0,1,2,3,4,5,6,7,8,9]  #製圖\n",
    "y=classifications[0]\n",
    "values = ['T-shirt','Pants', 'Pullover', 'Dress', 'Coat','Sandal','Shirt','Sneaker','Bag','Ankle boot'] \n",
    "plt.subplot(2,1,1)\n",
    "plt.plot(x,y)\n",
    "plt.xticks(x,values,rotation=-15)\n",
    "max=0\n",
    "for i in range(10):\n",
    "    if max<y[i]:\n",
    "        max=y[i]\n",
    "        ans=i\n",
    "for i in range(10):\n",
    "    if ans==i:\n",
    "        if test_labels[0]==ans:\n",
    "            print(\"預測是\",values[i],\"正確答案是\",values[i])\n",
    "plt.subplot(2, 1, 2)\n",
    "plt.tight_layout()\n",
    "plt.imshow(test_images[0])"
   ]
  },
  {
   "cell_type": "code",
   "execution_count": 35,
   "metadata": {},
   "outputs": [
    {
     "name": "stdout",
     "output_type": "stream",
     "text": [
      "預測值: [1.34710753e-02 8.90918309e-04 2.14132713e-03 5.49205055e-04\n",
      " 6.34390090e-05 8.87595296e-01 1.48849925e-02 5.22845127e-02\n",
      " 5.15262689e-03 2.29666084e-02]\n",
      "\n",
      "預測是 Sandal 正確答案是 Sandal\n"
     ]
    },
    {
     "data": {
      "text/plain": [
       "<matplotlib.image.AxesImage at 0x20774998a60>"
      ]
     },
     "execution_count": 35,
     "metadata": {},
     "output_type": "execute_result"
    },
    {
     "data": {
      "image/png": "[encoded data removed]",
      "text/plain": [
       "<Figure size 432x288 with 2 Axes>"
      ]
     },
     "metadata": {
      "needs_background": "light"
     },
     "output_type": "display_data"
    }
   ],
   "source": [
    "classifications = model.predict(test_images)   #預測\n",
    "test_random=random.randint(0,9999)\n",
    "print(\"預測值:\",classifications[test_random])\n",
    "print(\"\")\n",
    "x=[0,1,2,3,4,5,6,7,8,9]  #製圖\n",
    "y=classifications[test_random]\n",
    "values = ['T-shirt','Pants', 'Pullover', 'Dress', 'Coat','Sandal','Shirt','Sneaker','Bag','Ankle boot'] \n",
    "plt.subplot(2,1,1)\n",
    "plt.plot(x,y)\n",
    "plt.xticks(x,values,rotation=-15)\n",
    "max=0\n",
    "for i in range(10):\n",
    "    if max<y[i]:\n",
    "        max=y[i]\n",
    "        ans=i\n",
    "for i in range(10):\n",
    "    if ans==i:\n",
    "        if test_labels[test_random]==ans:\n",
    "            print(\"預測是\",values[i],\"正確答案是\",values[i])\n",
    "plt.subplot(2, 1, 2)\n",
    "plt.tight_layout()\n",
    "plt.imshow(test_images[test_random])"
   ]
  },
  {
   "cell_type": "code",
   "execution_count": null,
   "metadata": {},
   "outputs": [],
   "source": []
  }
 ],
 "metadata": {
  "kernelspec": {
   "display_name": "Python 3",
   "language": "python",
   "name": "python3"
  },
  "language_info": {
   "codemirror_mode": {
    "name": "ipython",
    "version": 3
   },
   "file_extension": ".py",
   "mimetype": "text/x-python",
   "name": "python",
   "nbconvert_exporter": "python",
   "pygments_lexer": "ipython3",
   "version": "3.8.5"
  }
 },
 "nbformat": 4,
 "nbformat_minor": 4
}
